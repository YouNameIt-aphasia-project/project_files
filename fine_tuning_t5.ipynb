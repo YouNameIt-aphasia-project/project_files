{
 "cells": [
  {
   "cell_type": "code",
   "execution_count": 1,
   "metadata": {},
   "outputs": [
    {
     "name": "stderr",
     "output_type": "stream",
     "text": [
      "2023-09-19 11:44:50.892003: I tensorflow/tsl/cuda/cudart_stub.cc:28] Could not find cuda drivers on your machine, GPU will not be used.\n",
      "2023-09-19 11:44:50.947455: I tensorflow/tsl/cuda/cudart_stub.cc:28] Could not find cuda drivers on your machine, GPU will not be used.\n",
      "2023-09-19 11:44:50.948229: I tensorflow/core/platform/cpu_feature_guard.cc:182] This TensorFlow binary is optimized to use available CPU instructions in performance-critical operations.\n",
      "To enable the following instructions: AVX2 FMA, in other operations, rebuild TensorFlow with the appropriate compiler flags.\n",
      "2023-09-19 11:44:51.844518: W tensorflow/compiler/tf2tensorrt/utils/py_utils.cc:38] TF-TRT Warning: Could not find TensorRT\n",
      "[nltk_data] Downloading package punkt to /home/CE/nursulu/nltk_data...\n",
      "[nltk_data]   Package punkt is already up-to-date!\n"
     ]
    }
   ],
   "source": [
    "from transformers import AutoModelForSeq2SeqLM, DataCollatorForSeq2Seq, Seq2SeqTrainingArguments, Seq2SeqTrainer, default_data_collator\n",
    "from datasets import load_dataset\n",
    "from torch.utils.data import DataLoader\n",
    "from tqdm import tqdm\n",
    "import torch\n",
    "import os\n",
    "from datasets import Dataset\n",
    "import torch\n",
    "import pandas as pd\n",
    "import numpy as np\n",
    "import nltk\n",
    "nltk.download('punkt')\n",
    "import string\n",
    "from transformers import AutoTokenizer"
   ]
  },
  {
   "cell_type": "code",
   "execution_count": 60,
   "metadata": {},
   "outputs": [],
   "source": [
    "from torch.utils.tensorboard import SummaryWriter"
   ]
  },
  {
   "cell_type": "code",
   "execution_count": 3,
   "metadata": {},
   "outputs": [],
   "source": [
    "from transformers import T5Tokenizer, T5ForConditionalGeneration, Trainer, TrainingArguments\n",
    "from collections import defaultdict, Counter"
   ]
  },
  {
   "cell_type": "code",
   "execution_count": 4,
   "metadata": {},
   "outputs": [
    {
     "name": "stdout",
     "output_type": "stream",
     "text": [
      "Device: cpu\n"
     ]
    }
   ],
   "source": [
    "cuda_id = ':0'\n",
    "device = torch.device(f\"cuda{cuda_id}\" if torch.cuda.is_available() else \"cpu\")\n",
    "print(\"Device:\", device)"
   ]
  },
  {
   "cell_type": "code",
   "execution_count": 61,
   "metadata": {},
   "outputs": [
    {
     "data": {
      "application/vnd.jupyter.widget-view+json": {
       "model_id": "d46f8bfabc334c3caab4df329651db58",
       "version_major": 2,
       "version_minor": 0
      },
      "text/plain": [
       "Downloading spiece.model:   0%|          | 0.00/792k [00:00<?, ?B/s]"
      ]
     },
     "metadata": {},
     "output_type": "display_data"
    },
    {
     "data": {
      "application/vnd.jupyter.widget-view+json": {
       "model_id": "5ada37ac732548c99db47622c300d63e",
       "version_major": 2,
       "version_minor": 0
      },
      "text/plain": [
       "Downloading (…)cial_tokens_map.json:   0%|          | 0.00/2.20k [00:00<?, ?B/s]"
      ]
     },
     "metadata": {},
     "output_type": "display_data"
    },
    {
     "data": {
      "application/vnd.jupyter.widget-view+json": {
       "model_id": "02bbce77aa2b458f9ffe65f7c86700f8",
       "version_major": 2,
       "version_minor": 0
      },
      "text/plain": [
       "Downloading (…)okenizer_config.json:   0%|          | 0.00/2.54k [00:00<?, ?B/s]"
      ]
     },
     "metadata": {},
     "output_type": "display_data"
    },
    {
     "data": {
      "application/vnd.jupyter.widget-view+json": {
       "model_id": "910dc5c623ff43108921dc9fc9d372bb",
       "version_major": 2,
       "version_minor": 0
      },
      "text/plain": [
       "Downloading (…)lve/main/config.json:   0%|          | 0.00/1.40k [00:00<?, ?B/s]"
      ]
     },
     "metadata": {},
     "output_type": "display_data"
    },
    {
     "data": {
      "application/vnd.jupyter.widget-view+json": {
       "model_id": "0af0be6f63254318bd6d57f5a1533f8d",
       "version_major": 2,
       "version_minor": 0
      },
      "text/plain": [
       "Downloading pytorch_model.bin:   0%|          | 0.00/308M [00:00<?, ?B/s]"
      ]
     },
     "metadata": {},
     "output_type": "display_data"
    },
    {
     "data": {
      "application/vnd.jupyter.widget-view+json": {
       "model_id": "6b248c4dac924da4a0b70a87702485bf",
       "version_major": 2,
       "version_minor": 0
      },
      "text/plain": [
       "Downloading (…)neration_config.json:   0%|          | 0.00/147 [00:00<?, ?B/s]"
      ]
     },
     "metadata": {},
     "output_type": "display_data"
    }
   ],
   "source": [
    "# Load the pre-trained T5 model and tokenizer\n",
    "model_name = \"google/flan-t5-small\"\n",
    "tokenizer = T5Tokenizer.from_pretrained(model_name)\n",
    "model = T5ForConditionalGeneration.from_pretrained(model_name)"
   ]
  },
  {
   "cell_type": "markdown",
   "metadata": {},
   "source": [
    "## Loading and preparing the dataset"
   ]
  },
  {
   "cell_type": "code",
   "execution_count": 62,
   "metadata": {},
   "outputs": [],
   "source": [
    "text_column = \"description\"\n",
    "label_column = \"target\"\n",
    "max_length = 128\n",
    "lr = 1e-2\n",
    "num_epochs = 1\n",
    "batch_size = 8"
   ]
  },
  {
   "cell_type": "code",
   "execution_count": 63,
   "metadata": {},
   "outputs": [
    {
     "name": "stdout",
     "output_type": "stream",
     "text": [
      "Number of descriptions: 1000\n",
      "Number of target words: 1000\n"
     ]
    },
    {
     "data": {
      "text/html": [
       "<div>\n",
       "<style scoped>\n",
       "    .dataframe tbody tr th:only-of-type {\n",
       "        vertical-align: middle;\n",
       "    }\n",
       "\n",
       "    .dataframe tbody tr th {\n",
       "        vertical-align: top;\n",
       "    }\n",
       "\n",
       "    .dataframe thead th {\n",
       "        text-align: right;\n",
       "    }\n",
       "</style>\n",
       "<table border=\"1\" class=\"dataframe\">\n",
       "  <thead>\n",
       "    <tr style=\"text-align: right;\">\n",
       "      <th></th>\n",
       "      <th>target</th>\n",
       "      <th>description</th>\n",
       "      <th>type</th>\n",
       "    </tr>\n",
       "  </thead>\n",
       "  <tbody>\n",
       "    <tr>\n",
       "      <th>0</th>\n",
       "      <td>principal</td>\n",
       "      <td>The main or primary person, thing, or concept ...</td>\n",
       "      <td>NaN</td>\n",
       "    </tr>\n",
       "    <tr>\n",
       "      <th>1</th>\n",
       "      <td>percentage</td>\n",
       "      <td>It's the way we show parts of something in re...</td>\n",
       "      <td>NaN</td>\n",
       "    </tr>\n",
       "    <tr>\n",
       "      <th>2</th>\n",
       "      <td>survey</td>\n",
       "      <td>A method of collecting information or opinions...</td>\n",
       "      <td>NaN</td>\n",
       "    </tr>\n",
       "    <tr>\n",
       "      <th>3</th>\n",
       "      <td>set</td>\n",
       "      <td>A collection of distinct objects, considered a...</td>\n",
       "      <td>NaN</td>\n",
       "    </tr>\n",
       "    <tr>\n",
       "      <th>4</th>\n",
       "      <td>day</td>\n",
       "      <td>A period of approximately 24 hours, marked by ...</td>\n",
       "      <td>NaN</td>\n",
       "    </tr>\n",
       "  </tbody>\n",
       "</table>\n",
       "</div>"
      ],
      "text/plain": [
       "       target                                        description type\n",
       "0   principal  The main or primary person, thing, or concept ...  NaN\n",
       "1  percentage   It's the way we show parts of something in re...  NaN\n",
       "2      survey  A method of collecting information or opinions...  NaN\n",
       "3         set  A collection of distinct objects, considered a...  NaN\n",
       "4         day  A period of approximately 24 hours, marked by ...  NaN"
      ]
     },
     "execution_count": 63,
     "metadata": {},
     "output_type": "execute_result"
    }
   ],
   "source": [
    "# Prepare your dataset and tokenize it\n",
    "file_path = \"coca_nouns_by_chat_gpt_5340.csv\"\n",
    "\n",
    "\"\"\"## Load Data and prepare Dataset\"\"\"\n",
    "dataset_name = \"targets_descriptions\"\n",
    "\n",
    "text_column = \"description\"\n",
    "label_column = \"target\"\n",
    "df = pd.read_csv(file_path)\n",
    "df = df[:1000]\n",
    "\n",
    "print(f\"Number of descriptions: {len(df)}\")\n",
    "print(f\"Number of target words: {df['target'].nunique()}\")\n",
    "\n",
    "df.head()"
   ]
  },
  {
   "cell_type": "code",
   "execution_count": 64,
   "metadata": {},
   "outputs": [
    {
     "data": {
      "application/vnd.jupyter.widget-view+json": {
       "model_id": "df5b0deaa1fc477bae03515356ec7eb3",
       "version_major": 2,
       "version_minor": 0
      },
      "text/plain": [
       "Downloading (…)/main/tokenizer.json:   0%|          | 0.00/2.42M [00:00<?, ?B/s]"
      ]
     },
     "metadata": {},
     "output_type": "display_data"
    },
    {
     "name": "stdout",
     "output_type": "stream",
     "text": [
      "7\n"
     ]
    }
   ],
   "source": [
    "data = {\"target\": [word for word in df['target']], \"description\":[descr for descr in df['description']]}\n",
    "dataset = Dataset.from_dict(data)\n",
    "dataset_split = dataset.train_test_split(test_size=0.2, shuffle=True, seed=42)\n",
    "dataset_split['train'][0]\n",
    "\n",
    "targets = dataset_split['train']['target']\n",
    "tokenizer = AutoTokenizer.from_pretrained(model_name)\n",
    "if tokenizer.pad_token_id is None:\n",
    "    tokenizer.pad_token_id = tokenizer.eos_token_id\n",
    "target_max_length = max([len(tokenizer(target)[\"input_ids\"]) for target in targets])\n",
    "print(target_max_length)"
   ]
  },
  {
   "cell_type": "code",
   "execution_count": 65,
   "metadata": {},
   "outputs": [],
   "source": [
    "dev_test = dataset_split[\"test\"].train_test_split(test_size=0.5, shuffle=True, seed=42)\n",
    "dataset_split[\"validation\"] = dev_test['train']\n",
    "dataset_split[\"test\"] = dev_test['test']"
   ]
  },
  {
   "cell_type": "code",
   "execution_count": 66,
   "metadata": {},
   "outputs": [
    {
     "data": {
      "text/plain": [
       "DatasetDict({\n",
       "    train: Dataset({\n",
       "        features: ['target', 'description'],\n",
       "        num_rows: 800\n",
       "    })\n",
       "    test: Dataset({\n",
       "        features: ['target', 'description'],\n",
       "        num_rows: 100\n",
       "    })\n",
       "    validation: Dataset({\n",
       "        features: ['target', 'description'],\n",
       "        num_rows: 100\n",
       "    })\n",
       "})"
      ]
     },
     "execution_count": 66,
     "metadata": {},
     "output_type": "execute_result"
    }
   ],
   "source": [
    "dataset_split"
   ]
  },
  {
   "cell_type": "code",
   "execution_count": 67,
   "metadata": {},
   "outputs": [],
   "source": [
    "def preprocess_function(examples):\n",
    "    inputs = examples[text_column]\n",
    "    targets = examples[label_column]\n",
    "    prefix = \"Description: \"\n",
    "    suffix = \" Word: \"\n",
    "    inputs = [prefix + input_text + suffix for input_text in inputs]\n",
    "\n",
    "    model_inputs = tokenizer(inputs, padding=\"max_length\", truncation=True, return_tensors=\"pt\")\n",
    "    labels = tokenizer(targets, padding=\"max_length\", truncation=True, return_tensors=\"pt\")\n",
    "    labels = labels[\"input_ids\"]\n",
    "    labels[labels == tokenizer.pad_token_id] = -100\n",
    "    model_inputs[\"labels\"] = labels\n",
    "    return model_inputs"
   ]
  },
  {
   "cell_type": "code",
   "execution_count": 68,
   "metadata": {},
   "outputs": [
    {
     "data": {
      "application/vnd.jupyter.widget-view+json": {
       "model_id": "7045f6f03a034e3eb3a39b51ccfa1c0d",
       "version_major": 2,
       "version_minor": 0
      },
      "text/plain": [
       "Running tokenizer on dataset:   0%|          | 0/800 [00:00<?, ? examples/s]"
      ]
     },
     "metadata": {},
     "output_type": "display_data"
    },
    {
     "data": {
      "application/vnd.jupyter.widget-view+json": {
       "model_id": "7ada23b8e74f46e9988410eaafb18f43",
       "version_major": 2,
       "version_minor": 0
      },
      "text/plain": [
       "Running tokenizer on dataset:   0%|          | 0/100 [00:00<?, ? examples/s]"
      ]
     },
     "metadata": {},
     "output_type": "display_data"
    },
    {
     "data": {
      "application/vnd.jupyter.widget-view+json": {
       "model_id": "f521511f328b4916a7ff834c4364b95b",
       "version_major": 2,
       "version_minor": 0
      },
      "text/plain": [
       "Running tokenizer on dataset:   0%|          | 0/100 [00:00<?, ? examples/s]"
      ]
     },
     "metadata": {},
     "output_type": "display_data"
    }
   ],
   "source": [
    "processed_datasets = dataset_split.map(\n",
    "    preprocess_function,\n",
    "    batched=True,\n",
    "    num_proc=1,\n",
    "    remove_columns=dataset_split[\"train\"].column_names,\n",
    "    load_from_cache_file=False,\n",
    "    desc=\"Running tokenizer on dataset\",\n",
    ")"
   ]
  },
  {
   "cell_type": "code",
   "execution_count": 69,
   "metadata": {},
   "outputs": [
    {
     "data": {
      "text/plain": [
       "DatasetDict({\n",
       "    train: Dataset({\n",
       "        features: ['input_ids', 'attention_mask', 'labels'],\n",
       "        num_rows: 800\n",
       "    })\n",
       "    test: Dataset({\n",
       "        features: ['input_ids', 'attention_mask', 'labels'],\n",
       "        num_rows: 100\n",
       "    })\n",
       "    validation: Dataset({\n",
       "        features: ['input_ids', 'attention_mask', 'labels'],\n",
       "        num_rows: 100\n",
       "    })\n",
       "})"
      ]
     },
     "execution_count": 69,
     "metadata": {},
     "output_type": "execute_result"
    }
   ],
   "source": [
    "processed_datasets"
   ]
  },
  {
   "cell_type": "code",
   "execution_count": 70,
   "metadata": {},
   "outputs": [],
   "source": [
    "train_dataset = processed_datasets[\"train\"]\n",
    "eval_dataset = processed_datasets[\"validation\"]\n",
    "\n",
    "train_dataloader = DataLoader(\n",
    "    train_dataset, shuffle=True, collate_fn=default_data_collator, batch_size=batch_size, pin_memory=True\n",
    ")\n",
    "eval_dataloader = DataLoader(eval_dataset, collate_fn=default_data_collator, batch_size=batch_size, pin_memory=True)"
   ]
  },
  {
   "cell_type": "code",
   "execution_count": 71,
   "metadata": {},
   "outputs": [],
   "source": [
    "test_dataset = processed_datasets[\"test\"]"
   ]
  },
  {
   "cell_type": "markdown",
   "metadata": {},
   "source": [
    "## Training"
   ]
  },
  {
   "cell_type": "code",
   "execution_count": 72,
   "metadata": {},
   "outputs": [],
   "source": [
    "model_name = \"fine_tuned_flan_t5_small\"\n",
    "model_dir = f\"/local/nursulu/bert_and_friends/{model_name}\""
   ]
  },
  {
   "cell_type": "code",
   "execution_count": 74,
   "metadata": {},
   "outputs": [],
   "source": [
    "# Define training hyperparameters\n",
    "training_args = TrainingArguments(\n",
    "    output_dir=f\"{model_dir}/model\",\n",
    "    per_device_train_batch_size=8,\n",
    "    per_device_eval_batch_size=8,\n",
    "    num_train_epochs=5,\n",
    "    evaluation_strategy=\"steps\",\n",
    "    eval_steps=20,\n",
    "    save_total_limit=2,\n",
    ")\n",
    "\n",
    "# Create a Trainer instance for training\n",
    "trainer = Trainer(\n",
    "    model=model,\n",
    "    args=training_args,\n",
    "    train_dataset=train_dataset,\n",
    "    eval_dataset=eval_dataset,\n",
    ")"
   ]
  },
  {
   "cell_type": "code",
   "execution_count": 75,
   "metadata": {},
   "outputs": [],
   "source": [
    "# Create a TensorBoard SummaryWriter\n",
    "tb_writer = SummaryWriter(log_dir=training_args.output_dir)  # Use the output_dir for TensorBoard logs"
   ]
  },
  {
   "cell_type": "code",
   "execution_count": 76,
   "metadata": {},
   "outputs": [
    {
     "name": "stderr",
     "output_type": "stream",
     "text": [
      "/local/nursulu/anaconda3/lib/python3.11/site-packages/transformers/optimization.py:391: FutureWarning: This implementation of AdamW is deprecated and will be removed in a future version. Use the PyTorch implementation torch.optim.AdamW instead, or set `no_deprecation_warning=True` to disable this warning\n",
      "  warnings.warn(\n"
     ]
    },
    {
     "data": {
      "text/html": [
       "\n",
       "    <div>\n",
       "      \n",
       "      <progress value='500' max='500' style='width:300px; height:20px; vertical-align: middle;'></progress>\n",
       "      [500/500 29:24, Epoch 5/5]\n",
       "    </div>\n",
       "    <table border=\"1\" class=\"dataframe\">\n",
       "  <thead>\n",
       " <tr style=\"text-align: left;\">\n",
       "      <th>Step</th>\n",
       "      <th>Training Loss</th>\n",
       "      <th>Validation Loss</th>\n",
       "    </tr>\n",
       "  </thead>\n",
       "  <tbody>\n",
       "    <tr>\n",
       "      <td>20</td>\n",
       "      <td>No log</td>\n",
       "      <td>2.350105</td>\n",
       "    </tr>\n",
       "    <tr>\n",
       "      <td>40</td>\n",
       "      <td>No log</td>\n",
       "      <td>2.130923</td>\n",
       "    </tr>\n",
       "    <tr>\n",
       "      <td>60</td>\n",
       "      <td>No log</td>\n",
       "      <td>2.104228</td>\n",
       "    </tr>\n",
       "    <tr>\n",
       "      <td>80</td>\n",
       "      <td>No log</td>\n",
       "      <td>2.098252</td>\n",
       "    </tr>\n",
       "    <tr>\n",
       "      <td>100</td>\n",
       "      <td>No log</td>\n",
       "      <td>2.062244</td>\n",
       "    </tr>\n",
       "    <tr>\n",
       "      <td>120</td>\n",
       "      <td>No log</td>\n",
       "      <td>2.011095</td>\n",
       "    </tr>\n",
       "    <tr>\n",
       "      <td>140</td>\n",
       "      <td>No log</td>\n",
       "      <td>2.010171</td>\n",
       "    </tr>\n",
       "    <tr>\n",
       "      <td>160</td>\n",
       "      <td>No log</td>\n",
       "      <td>2.038436</td>\n",
       "    </tr>\n",
       "    <tr>\n",
       "      <td>180</td>\n",
       "      <td>No log</td>\n",
       "      <td>2.000894</td>\n",
       "    </tr>\n",
       "    <tr>\n",
       "      <td>200</td>\n",
       "      <td>No log</td>\n",
       "      <td>2.026709</td>\n",
       "    </tr>\n",
       "    <tr>\n",
       "      <td>220</td>\n",
       "      <td>No log</td>\n",
       "      <td>2.028740</td>\n",
       "    </tr>\n",
       "    <tr>\n",
       "      <td>240</td>\n",
       "      <td>No log</td>\n",
       "      <td>2.009509</td>\n",
       "    </tr>\n",
       "    <tr>\n",
       "      <td>260</td>\n",
       "      <td>No log</td>\n",
       "      <td>1.986071</td>\n",
       "    </tr>\n",
       "    <tr>\n",
       "      <td>280</td>\n",
       "      <td>No log</td>\n",
       "      <td>1.978727</td>\n",
       "    </tr>\n",
       "    <tr>\n",
       "      <td>300</td>\n",
       "      <td>No log</td>\n",
       "      <td>1.972464</td>\n",
       "    </tr>\n",
       "    <tr>\n",
       "      <td>320</td>\n",
       "      <td>No log</td>\n",
       "      <td>1.966030</td>\n",
       "    </tr>\n",
       "    <tr>\n",
       "      <td>340</td>\n",
       "      <td>No log</td>\n",
       "      <td>1.977971</td>\n",
       "    </tr>\n",
       "    <tr>\n",
       "      <td>360</td>\n",
       "      <td>No log</td>\n",
       "      <td>1.974482</td>\n",
       "    </tr>\n",
       "    <tr>\n",
       "      <td>380</td>\n",
       "      <td>No log</td>\n",
       "      <td>1.966727</td>\n",
       "    </tr>\n",
       "    <tr>\n",
       "      <td>400</td>\n",
       "      <td>No log</td>\n",
       "      <td>1.961703</td>\n",
       "    </tr>\n",
       "    <tr>\n",
       "      <td>420</td>\n",
       "      <td>No log</td>\n",
       "      <td>1.965328</td>\n",
       "    </tr>\n",
       "    <tr>\n",
       "      <td>440</td>\n",
       "      <td>No log</td>\n",
       "      <td>1.962170</td>\n",
       "    </tr>\n",
       "    <tr>\n",
       "      <td>460</td>\n",
       "      <td>No log</td>\n",
       "      <td>1.958878</td>\n",
       "    </tr>\n",
       "    <tr>\n",
       "      <td>480</td>\n",
       "      <td>No log</td>\n",
       "      <td>1.960222</td>\n",
       "    </tr>\n",
       "    <tr>\n",
       "      <td>500</td>\n",
       "      <td>2.004600</td>\n",
       "      <td>1.960765</td>\n",
       "    </tr>\n",
       "  </tbody>\n",
       "</table><p>"
      ],
      "text/plain": [
       "<IPython.core.display.HTML object>"
      ]
     },
     "metadata": {},
     "output_type": "display_data"
    },
    {
     "data": {
      "text/plain": [
       "TrainOutput(global_step=500, training_loss=2.0046171875, metrics={'train_runtime': 1767.3565, 'train_samples_per_second': 2.263, 'train_steps_per_second': 0.283, 'total_flos': 743562018816000.0, 'train_loss': 2.0046171875, 'epoch': 5.0})"
      ]
     },
     "execution_count": 76,
     "metadata": {},
     "output_type": "execute_result"
    }
   ],
   "source": [
    "# Fine-tune the model\n",
    "trainer.train()"
   ]
  },
  {
   "cell_type": "markdown",
   "metadata": {},
   "source": [
    "## Evaluation"
   ]
  },
  {
   "cell_type": "code",
   "execution_count": 80,
   "metadata": {},
   "outputs": [],
   "source": [
    "# Evaluate the model on the test dataset\n",
    "results = trainer.evaluate(test_dataset)"
   ]
  },
  {
   "cell_type": "code",
   "execution_count": 81,
   "metadata": {},
   "outputs": [
    {
     "data": {
      "text/plain": [
       "{'eval_loss': 2.0908145904541016,\n",
       " 'eval_runtime': 11.1721,\n",
       " 'eval_samples_per_second': 8.951,\n",
       " 'eval_steps_per_second': 1.164,\n",
       " 'epoch': 5.0}"
      ]
     },
     "execution_count": 81,
     "metadata": {},
     "output_type": "execute_result"
    }
   ],
   "source": [
    "results"
   ]
  },
  {
   "cell_type": "code",
   "execution_count": 79,
   "metadata": {},
   "outputs": [],
   "source": [
    "# Save the model\n",
    "model.save_pretrained(f\"{model_dir}/model\")"
   ]
  },
  {
   "cell_type": "code",
   "execution_count": 87,
   "metadata": {},
   "outputs": [
    {
     "name": "stdout",
     "output_type": "stream",
     "text": [
      "Generated word: fruit\n"
     ]
    }
   ],
   "source": [
    "# Load the fine-tuned model for inference\n",
    "fine_tuned_model = T5ForConditionalGeneration.from_pretrained(f\"{model_dir}/model\")\n",
    "\n",
    "# Generate predictions\n",
    "input_text = \"A yellow elongated fruit\"\n",
    "input_ids = tokenizer.encode(input_text, return_tensors=\"pt\")\n",
    "output_ids = fine_tuned_model.generate(input_ids)\n",
    "output_text = tokenizer.decode(output_ids[0], skip_special_tokens=True)\n",
    "\n",
    "print(\"Generated word:\", output_text)"
   ]
  },
  {
   "cell_type": "markdown",
   "metadata": {},
   "source": [
    "## Testing performance"
   ]
  },
  {
   "cell_type": "code",
   "execution_count": 83,
   "metadata": {},
   "outputs": [],
   "source": [
    "def count_accuracy(pred, true, top_k=5):\n",
    "  '''\n",
    "  This function evaluates performance of the t5 family models on top-k candidates.\n",
    "  '''\n",
    "  accuracy = []\n",
    "  rank_vs_accuracy = dict()\n",
    "  for i in range(len(pred)): \n",
    "    ground_truth = true[i].strip().lower()\n",
    "    #print(\"ground_truth:\", ground_truth)\n",
    "    preds = pred[i]\n",
    "    #print(\"preds\", preds)\n",
    "    accuracy_sent = [1 if any(pred.strip().lower() == ground_truth for pred in preds[:top_k]) else 0]\n",
    "    #print(\"accuracy_sent\", accuracy_sent)\n",
    "    accuracy.extend(accuracy_sent)\n",
    "    rank_vs_accuracy[coca_words.index(ground_truth)] = accuracy_sent\n",
    "\n",
    "  accuracy = sum(accuracy)\n",
    "  accuracy /= len(pred)\n",
    "  return [accuracy, rank_vs_accuracy]"
   ]
  },
  {
   "cell_type": "code",
   "execution_count": 84,
   "metadata": {},
   "outputs": [],
   "source": [
    "def count_top_k_predictions(dataset, k=10, model=model):\n",
    "    '''\n",
    "    Count top-K predictions for each word + probabilities of these predictions\n",
    "    '''\n",
    "    \n",
    "    descriptions = dataset['test']['description']\n",
    "    targets = dataset['test']['target']\n",
    "\n",
    "    inputs = [f\"Descripton : {x}. Word : \" for x in descriptions]\n",
    "\n",
    "    inputs = tokenizer(\n",
    "        inputs,\n",
    "        padding=True, truncation=True,\n",
    "        return_tensors=\"pt\",\n",
    "    )\n",
    "\n",
    "    model.to(device)\n",
    "    \n",
    "    with torch.no_grad():\n",
    "        inputs = {k: v.to(device) for k, v in inputs.items()}\n",
    "        output_sequences = model.generate(input_ids=inputs[\"input_ids\"], max_new_tokens=10, num_beams=k, num_return_sequences=k, #max_length=3,\n",
    "                                                    top_p = 50, output_scores=True, return_dict_in_generate=True) #repetition_penalty=10000.0\n",
    "        #print(\"output_sequences\", output_sequences)\n",
    "        logits = torch.tensor(output_sequences['sequences_scores'])\n",
    "        decoded_probabilities = torch.softmax(logits, dim=0)\n",
    "        \n",
    "        words_vs_probs = defaultdict()\n",
    "        \n",
    "        #all word predictions\n",
    "        final_list = []\n",
    "        for i in range(0, len(output_sequences['sequences']), k):\n",
    "            sublist = output_sequences['sequences'][i:i + k]\n",
    "            final_list.append(sublist)\n",
    "        \n",
    "        #all prediction probabilities\n",
    "        final_probs = []\n",
    "        for i in range(0, len(decoded_probabilities), k):\n",
    "            sublist = decoded_probabilities[i:i + k]\n",
    "            final_probs.append(sublist)\n",
    "            \n",
    "        predict_test = []\n",
    "        \n",
    "        for i in tqdm(range(len(targets))):\n",
    "            words_vs_probs[(descriptions[i], targets[i])] = {}\n",
    "            #print(sentences[i])\n",
    "            preds = []\n",
    "            for j in range(k):\n",
    "                #print(\"Prediction number\", j)\n",
    "                predicted_token_ids = final_list[i][j]\n",
    "                decoded_predictions = tokenizer.decode(predicted_token_ids, skip_special_tokens=True)\n",
    "                words_vs_probs[(descriptions[i], targets[i])][decoded_predictions] = round(float(final_probs[i][j]), 3)\n",
    "                preds.append(decoded_predictions)\n",
    "            predict_test.append(preds)\n",
    "    \n",
    "    return [predict_test, words_vs_probs]"
   ]
  },
  {
   "cell_type": "code",
   "execution_count": 85,
   "metadata": {},
   "outputs": [
    {
     "data": {
      "text/plain": [
       "DatasetDict({\n",
       "    train: Dataset({\n",
       "        features: ['input_ids', 'attention_mask', 'labels'],\n",
       "        num_rows: 800\n",
       "    })\n",
       "    test: Dataset({\n",
       "        features: ['input_ids', 'attention_mask', 'labels'],\n",
       "        num_rows: 100\n",
       "    })\n",
       "    validation: Dataset({\n",
       "        features: ['input_ids', 'attention_mask', 'labels'],\n",
       "        num_rows: 100\n",
       "    })\n",
       "})"
      ]
     },
     "execution_count": 85,
     "metadata": {},
     "output_type": "execute_result"
    }
   ],
   "source": [
    "processed_datasets"
   ]
  },
  {
   "cell_type": "code",
   "execution_count": 86,
   "metadata": {},
   "outputs": [],
   "source": [
    "coca_words = list(df['target'])\n",
    "true = dataset_split['test'][\"target\"]"
   ]
  },
  {
   "cell_type": "code",
   "execution_count": 89,
   "metadata": {},
   "outputs": [
    {
     "name": "stderr",
     "output_type": "stream",
     "text": [
      "/tmp/ipykernel_228315/2970769765.py:24: UserWarning: To copy construct from a tensor, it is recommended to use sourceTensor.clone().detach() or sourceTensor.clone().detach().requires_grad_(True), rather than torch.tensor(sourceTensor).\n",
      "  logits = torch.tensor(output_sequences['sequences_scores'])\n",
      "100%|██████████| 100/100 [00:00<00:00, 6687.67it/s]\n"
     ]
    }
   ],
   "source": [
    "predict_test, words_vs_probs = count_top_k_predictions(dataset_split, k=10, model=fine_tuned_model)"
   ]
  },
  {
   "cell_type": "code",
   "execution_count": 90,
   "metadata": {},
   "outputs": [
    {
     "name": "stdout",
     "output_type": "stream",
     "text": [
      "('It is similar to the beast or creature.', 'being')\n",
      "{'creature': 0.003, 'beast': 0.001, 'adolf': 0.001, 'sacrifice': 0.001, 'adolescent': 0.001, 'acrobatic': 0.001, 'adolescence': 0.001, 'tawn': 0.001, 'adolf or ad': 0.001, 'tainted': 0.001}\n",
      "('It is similar to concentration.', 'focus')\n",
      "{'concentration': 0.001, 'adolescence': 0.001, 'systyrofoam': 0.001, 'psychiatric': 0.001, 'symbiosis': 0.001, 'psychiatry': 0.001, 'systylization': 0.001, 'systémium': 0.001, 'density': 0.001}\n",
      "('It is similar to area, neighborhood, or region.', 'district')\n",
      "{'neighborhood': 0.002, 'region': 0.002, 'neighbourhood': 0.001, 'area': 0.001, 'location': 0.001, 'town': 0.001, 'district': 0.001, 'city': 0.001, 'community': 0.001, 'description': 0.0}\n",
      "('It is a synonym for trauma or damage.', 'injury')\n",
      "{'trauma': 0.003, 'injury': 0.001, 'damage': 0.001, 'disease': 0.001, 'death': 0.001, 'tragedy': 0.0, 'illness': 0.0, 'cause': 0.0, 'traumatism': 0.0, 'trauma or damage': 0.0}\n",
      "('Wet stuff that keeps us from being thirsty.', 'water')\n",
      "{'drink': 0.002, 'water': 0.001, 'thirst': 0.001, 'drooling': 0.001, 'sluggish': 0.001, 'we': 0.001, 'sluggishness': 0.001, 'tepid': 0.001, 'smell': 0.001, 'drool': 0.001}\n",
      "('Facts, information, or objects that support or prove something, often used in investigations or arguments to establish truth or validity.', 'evidence')\n",
      "{'evidence': 0.003, 'descriptor': 0.001, 'descripton': 0.001, 'facts': 0.001, 'test': 0.001, 'description': 0.001, 'testimony': 0.001, 'case': 0.001, 'research': 0.001, 'information': 0.001}\n",
      "('The number of units of goods or services sold.', 'sales')\n",
      "{'number': 0.002, 'descripton': 0.002, 'quantity': 0.001, 'price': 0.001, 'revenue': 0.001, 'descriptor': 0.001, 'product': 0.001, 'unit': 0.001, 'amount': 0.001, 'commodity': 0.001}\n",
      "(\"It's when people have a legal disagreement and bring their problem to a court to get a judge's decision on how to solve it.\", 'lawsuit')\n",
      "{'judge': 0.002, 'dispute': 0.001, 'court': 0.001, 'acquittal': 0.001, 'trial': 0.001, 'case': 0.001, 'appoint': 0.001, 'admonishment': 0.001, 'adolescence': 0.001, 'adolescent': 0.001}\n",
      "('It is the antonym of lie.', 'truth')\n",
      "{'lie': 0.003, 'narcissism': 0.001, 'sacrifice': 0.001, 'sacrim': 0.001, 'adolf': 0.001, 'adolescence': 0.001, 'sacrimony': 0.001, 'truth': 0.001, 'deafness': 0.001, 'sacrib': 0.001}\n",
      "('It is related to chairs.', 'table')\n",
      "{'chair': 0.004, 'table': 0.001, 'chairs': 0.001, 'seat': 0.001, 'desk': 0.001, 'Chair': 0.0, 'furniture': 0.0, 'sofa': 0.0, 'bed': 0.0, 'floor': 0.0}\n",
      "('A command or direction that tells someone what to do.', 'instruction')\n",
      "{'direction': 0.003, 'command': 0.002, 'descripton': 0.001, 'descriptor': 0.001, 'description': 0.001, 'adverb': 0.001, 'word': 0.001, 'ad': 0.001, 'apprehension': 0.001, 'directive': 0.001}\n",
      "(\"A young human who isn't an adult yet, usually referring to someone from birth to around 12 or so years old.\", 'child')\n",
      "{'age': 0.003, 'adult': 0.002, 'adolescent': 0.001, 'child': 0.001, 'neo-napoleon': 0.001, 'neosopharyngean': 0.001, 'neo-neo-n': 0.001, 'neo-napolean': 0.001, 'neo-narcissist': 0.001, 'adolescence': 0.001}\n",
      "('It is an opposite of innovation.', 'tradition')\n",
      "{'innovation': 0.004, 'adolescence': 0.001, 'neo-innovation': 0.001, 'neoliberal': 0.001, 'naiveness': 0.001, 'irrationality': 0.001, 'neoliberalism': 0.001, 'irrational': 0.001, 'adolescent': 0.001, 'nainted': 0.001}\n",
      "('It is similar to admiration or honor.', 'respect')\n",
      "{'admiration': 0.003, 'honor': 0.002, 'appreciation': 0.001, 'recognition': 0.001, 'merit': 0.001, 'respect': 0.0, 'admiration/opportunity': 0.0, 'honour': 0.0, 'admiration/obsessed': 0.0, 'admiration/response': 0.0}\n",
      "('It is the opposite of north.', 'south')\n",
      "{'north': 0.003, 'necropolis': 0.001, 'negro': 0.001, 'neo-neo': 0.001, 'east': 0.001, 'neo-neo-n': 0.001, 'nassau': 0.001, 'nevada': 0.001, 'neo': 0.001, 'london': 0.001}\n",
      "('It is the opposite of hate.', 'love')\n",
      "{'hate': 0.003, 'narcissism': 0.001, 'hatred': 0.001, 'nihorse': 0.001, 'descripton': 0.001, 'sacrimony': 0.001, 'love': 0.001, 'descriptor': 0.001, 'nihilation': 0.001, 'nihilism': 0.001}\n",
      "('It means someone who backs a person, cause, or idea, often providing encouragement, help, or resources.', 'supporter')\n",
      "{'support': 0.003, 'help': 0.001, 'advocate': 0.001, 'role': 0.001, 'person': 0.001, 'mentor': 0.0, 'author': 0.0, 'aid': 0.0, 'source': 0.0, 'friend': 0.0}\n",
      "('A large, furry mammal with a long snout and claws.', 'bear')\n",
      "{'mammal': 0.002, 'dog': 0.002, 'snout': 0.001, 'antelope': 0.001, 'zoo': 0.001, 'lion': 0.001, 'lizard': 0.001, 'mouse': 0.001, 'fox': 0.001, 'animal': 0.001}\n",
      "('A way of behaving or doing something.', 'manner')\n",
      "{'descripton': 0.002, 'adolescence': 0.002, 'descriptor': 0.001, 'act': 0.001, 'adolescent': 0.001, 'rephrasing': 0.001, 'rescribing': 0.001, 'behavior': 0.001, 'adolf': 0.001, 'adverb': 0.001}\n",
      "('It is a synonym for instrument or device.', 'tool')\n",
      "{'instrument': 0.003, 'device': 0.002, 'systyrofoam': 0.001, 'systrofoam': 0.001, 'syrofoam': 0.001, 'systyr': 0.001, 'systyron': 0.001, 'systylizer': 0.001, 'acoustic': 0.001, 'systyroscope': 0.001}\n",
      "('It is a synonym of result.', 'outcome')\n",
      "{'result': 0.004, 'outcome': 0.0, 'effect': 0.0, 'product': 0.0, 'results': 0.0, 'conclusion': 0.0, 'result or result': 0.0, 'term': 0.0, 'success': 0.0, 'result or reshape': 0.0}\n",
      "('The group of people who are watching, listening to, or paying attention to something like a performance, presentation, or event.', 'audience')\n",
      "{'audience': 0.004, 'listener': 0.001, 'group of people who are watching, listening, or': 0.001, 'group of people who are watching, listening to,': 0.001, 'listen': 0.0, 'group of people who are watching, listening or paying': 0.0, 'group of people who watch, listen, or pay': 0.0, 'group of people who are watching, listening and paying': 0.0, 'group of people watching, listening, or paying attention': 0.0, 'group of people who are watching, listening': 0.0}\n",
      "('It is a synonym for danger, hazard, or possibility.', 'risk')\n",
      "{'danger': 0.003, 'threat': 0.002, 'possibility': 0.001, 'risk': 0.001, 'danger - sacrifice': 0.0, 'danger - adolescence': 0.0, 'potential': 0.0, 'danger - adolf': 0.0, 'danger - adolescent': 0.0, 'danger - adolfo': 0.0}\n",
      "('Something that is required to be done by law or custom.', 'duty')\n",
      "{'law': 0.002, 'jurisprudence': 0.001, 'custom': 0.001, 'requisition': 0.001, 'adolescence': 0.001, 'stipulation': 0.001, 'adolescent': 0.001, 'adolf': 0.001, 'criterion': 0.001, 'requisement': 0.001}\n",
      "('It is a synonym for air conditioner or ventilator.', 'fan')\n",
      "{'ventilator': 0.002, 'air conditioner': 0.002, 'air': 0.002, 'air conditioning': 0.001, 'adolf': 0.001, 'acclimate': 0.001, 'combustible': 0.001, 'acoustic': 0.001, 'adolescent': 0.001, 'unit': 0.001}\n",
      "('The result or effect of something.', 'consequence')\n",
      "{'effect': 0.003, 'result': 0.002, 'descripton': 0.001, 'outcome': 0.001, 'descriptor': 0.0, 'product': 0.0, 'cause': 0.0, 'impact': 0.0, 'description': 0.0, 'descripton -lrb- result': 0.0}\n",
      "('A method of collecting information or opinions from a group of people to gather insights and data on a particular topic or subject.', 'survey')\n",
      "{'descripton': 0.002, 'research': 0.002, 'descriptor': 0.001, 'data': 0.001, 'survey': 0.001, 'description': 0.001, 'method': 0.001, 'information': 0.001, 'analysis': 0.001}\n",
      "('A number that represents the middle of a set of numbers.', 'average')\n",
      "{'number': 0.003, 'descripton': 0.001, 'descriptor': 0.001, 'denominator': 0.001, 'numeral': 0.001, 'count': 0.001, 'digit': 0.001, 'word': 0.001, 'description': 0.001, 'point': 0.001}\n",
      "('A source of information or authority.', 'reference')\n",
      "{'authority': 0.002, 'source': 0.002, 'author': 0.001, 'authoritative': 0.001, 'government': 0.001, 'information': 0.001, 'official': 0.0, 'publisher': 0.0, 'director': 0.0, 'source of information or authority': 0.0}\n",
      "('It is something you can write on.', 'paper')\n",
      "{'word': 0.002, 'description': 0.001, 'article': 0.001, 'write': 0.001, 'writing': 0.001, 'name': 0.001, 'book': 0.001, 'text': 0.001, 'letter': 0.001, 'sentence': 0.001}\n",
      "(' A military force.', 'army')\n",
      "{'military': 0.001, 'soldier': 0.002, 'army': 0.002, 'adolf': 0.001, 'guerrilla': 0.001, 'officer': 0.001, 'armed force': 0.001, 'adolescent': 0.001, 'adote': 0.001}\n",
      "('It is a synonym for try.', 'attempt')\n",
      "{'try': 0.003, 'tay': 0.001, 'ad': 0.001, 'attempt': 0.001, 'resuscitate': 0.001, 'tame': 0.001, 'resuscitation': 0.001, 'fail': 0.001, 'tyre': 0.001, 'failure': 0.001}\n",
      "('shirt, A piece of clothing, often without sleeves, that covers the upper body and arms.', 'shirt')\n",
      "{'shirt': 0.003, 'sleeve': 0.002, 't-shirt': 0.001, 'tee': 0.001, 'tee shirt': 0.001, 'dress': 0.001, 'polo shirt': 0.001, 'teddy bear': 0.001, 't shirt': 0.001, 'garment': 0.001}\n",
      "('It is a synonym of opportunity.', 'chance')\n",
      "{'opportunity': 0.003, 'chance': 0.001, 'prospect': 0.0, 'probability': 0.0, 'investment': 0.0, 'offer': 0.0, 'job': 0.0, 'event': 0.0, 'advantage': 0.0, 'appreciation': 0.0}\n",
      "('A long story about imaginary people and events.', 'novel')\n",
      "{'story': 0.003, 'apocalypse': 0.002, 'book': 0.001, 'apocalyptic': 0.001, 'fictional': 0.001, 'apocalypte': 0.001, 'epocalypse': 0.001, 'apocalyptical': 0.001, 'escapism': 0.001, 'apocalyptus': 0.001}\n",
      "('A computer program designed to perform a specific task.', 'application')\n",
      "{'program': 0.003, 'software': 0.001, 'script': 0.001, 'project': 0.001, 'task': 0.001, 'computer': 0.001, 'programming': 0.001, 'function': 0.001, 'test': 0.001, 'tool': 0.0}\n",
      "('Ending a pregnancy before the fetus is viable.', 'abortion')\n",
      "{'pregnancy': 0.003, 'fetus': 0.002, 'end': 0.002, 'pregnancies': 0.002, 'fetal': 0.001, 'abortion': 0.001, 'descripton': 0.001, 'fetal fetus': 0.001, 'uterus': 0.001, 'pregnant': 0.001}\n",
      "('A journey on a vehicle or a horse.', 'ride')\n",
      "{'journey': 0.002, 'road': 0.001, 'vehicle': 0.001, 'voyage': 0.001, 'ride': 0.001, 'horse': 0.001, 'car': 0.001, 'train': 0.001, 'route': 0.001, 'trip': 0.0}\n",
      "('A word you use to call someone or something.', 'name')\n",
      "{'word': 0.002, 'name': 0.002, 'descripton': 0.001, 'descriptor': 0.001, 'call': 0.001, 'narrator': 0.001, 'ad': 0.001, 'adolf': 0.001, 'adverb': 0.001, 'commodore': 0.001}\n",
      "('It is the opposite of day.', 'night')\n",
      "{'day': 0.003, 'tuesday': 0.002, 'october': 0.001, 'saturday': 0.001, 'april': 0.001, 'january': 0.001, 'twilight': 0.001, 'twelfth day': 0.001, 'twelfth': 0.001, 'thursday': 0.001}\n",
      "('A hard, solid piece of rock.', 'stone')\n",
      "{'rock': 0.003, 'piece': 0.002, 'acoustic': 0.001, 'tidal': 0.001, 'teddy bear': 0.001, 'cinder': 0.001, 'acoust': 0.001, 'sandstone': 0.001, 'sand': 0.001, 'hammer': 0.0}\n",
      "('Individuals belonging to the human species who possess unique characteristics, thoughts, and emotions.', 'people')\n",
      "{'personality': 0.003, 'individual': 0.001, 'species': 0.001, 'individuals': 0.001, 'person': 0.001, 'persons': 0.001, 'human': 0.0, 'character': 0.0, 'identity': 0.0, 'traits': 0.0}\n",
      "('An area or region with a particular character or purpose.', 'zone')\n",
      "{'description': 0.001, 'region': 0.001, 'area': 0.001, 'location': 0.001, 'character': 0.001, 'name': 0.001, 'category': 0.001, 'state': 0.0, 'territory': 0.0, 'instance': 0.0}\n",
      "('Beliefs, rituals, and practices that people hold and follow to connect with a higher power.', 'religion')\n",
      "{'faith': 0.003, 'belief': 0.001, 'descripton': 0.001, 'descriptor': 0.001, 'religion': 0.001, 'believer': 0.001, 'description': 0.001, 'ritual': 0.001, 'practice': 0.0, 'scripture': 0.0}\n",
      "('A tiny piece or small portion of something.', 'bit')\n",
      "{'piece': 0.003, 'note': 0.001, 'item': 0.001, 'part': 0.0, 'description': 0.0, 'portion': 0.0, 'measure': 0.0, 'size': 0.0, 'fragment': 0.0, 'small': 0.0}\n",
      "('A small, enclosed space in a garment or bag for carrying small items.', 'pocket')\n",
      "{'garment': 0.002, 'compartment': 0.002, 'bag': 0.001, 'dress': 0.001, 'store': 0.001, 'carry': 0.001, 'closet': 0.0, 'room': 0.0, 'item': 0.0, 'storage': 0.0}\n",
      "(\"The ability to perceive and understand information from one's surroundings using the five main faculties: sight, hearing, taste, touch, and smell.\", 'sense')\n",
      "{'sense': 0.002, 'hearing': 0.002, 'sight': 0.001, 'ability': 0.001, 'perception': 0.001, 'experience': 0.001, 'touch': 0.001, \"ability to perceive and understand information from one's\": 0.001, 'sight, hearing, touch, and': 0.001, 'visual': 0.001}\n",
      "('A gathering or event for socializing and having fun.', 'party')\n",
      "{'event': 0.003, 'gathering': 0.001, 'adolescence': 0.001, 'adolescent': 0.001, 'tuesday': 0.001, 'adolfo event': 0.001, 'adolfo': 0.001, 'adolfon': 0.001, 'adolfolfo': 0.001, 'adolf': 0.001}\n",
      "('It is a synonym of a fragment, part, or portion.', 'piece')\n",
      "{'fragment': 0.002, 'piece': 0.002, 'part': 0.001, 'component': 0.001, 'portion': 0.001, 'item': 0.0, 'description': 0.0, 'form': 0.0, 'element': 0.0, 'material': 0.0}\n",
      "('A person who participates in voting or election by choosing their favorite candidates.', 'voter')\n",
      "{'candidate': 0.003, 'voter': 0.001, 'vote': 0.001, 'election': 0.001, 'member of the electorate': 0.001, 'member of the senate': 0.001, 'member of the general election': 0.001, 'member of the election': 0.001, 'member of the democrats': 0.001, 'contestant': 0.001}\n",
      "('A series of words that are spoken.', 'speech')\n",
      "{'word': 0.002, 'sentence': 0.001, 'symbiosis': 0.001, 'symphony': 0.001, 'descripton': 0.001, 'syllable': 0.001, 'adolf': 0.001, 'descriptor': 0.001, 'symbiose': 0.001, 'adverb': 0.001}\n",
      "('It is similar to expertise or intelligence.', 'knowledge')\n",
      "{'expertise': 0.003, 'intelligence': 0.001, 'knowledge': 0.001, 'expert': 0.001, 'skill': 0.001, 'research': 0.001, 'experience': 0.0, 'skills': 0.0, 'competency': 0.0, 'competence': 0.0}\n",
      "('It is a synonym for a movie.', 'film')\n",
      "{'movie': 0.003, 'apocalypse': 0.002, 'film': 0.002, 'comedy': 0.001, 'apocalyptic': 0.001, 'adolf': 0.001, 'apocalypte': 0.001, 'story': 0.001, 'cult': 0.001, 'a movie': 0.001}\n",
      "(\"It's like a story that tells about events and characters, helping us understand ideas or enjoy an adventure.\", 'narrative')\n",
      "{'story': 0.003, 'apocalypse': 0.001, 'a story': 0.001, 'book': 0.001, 'adolescence': 0.001, 'escapism': 0.001, 'adolescent': 0.001, 'encyclopedia': 0.001, 'storytelling': 0.001, 'apocalyptic': 0.001}\n",
      "('It is the antonym of boy.', 'girl')\n",
      "{'boy': 0.003, 'adolf': 0.001, 'adolescent': 0.001, 'babe': 0.001, 'adolescence': 0.001, 'child': 0.001, 'napoleon': 0.001, 'sacrifice': 0.001, 'adolfo': 0.001, 'adote': 0.001}\n",
      "('A way to express a portion or part of a whole in relation to one hundred.', 'percent')\n",
      "{'ten': 0.001, 'hundred': 0.001, 'tennessee': 0.001, 'twelfth': 0.001, 'symphony': 0.001, 'cent': 0.001, 'symbiosis': 0.001, 'adolfo': 0.001, 'adolfolfo': 0.001, 'adolescence': 0.001}\n",
      "('Doing something or taking a step to achieve a goal or result.', 'action')\n",
      "{'action': 0.002, 'descripton': 0.001, 'doing': 0.001, 'adolescence': 0.001, 'commitment': 0.001, 'completing': 0.001, 'step': 0.001, 'adolescent': 0.001, 'descriptor': 0.001, 'adopportunity': 0.001}\n",
      "(\"It's what someone gives or adds to a situation, project, or group effort, making a meaningful impact or sharing their part.\", 'contribution')\n",
      "{'contribution': 0.002, 'role': 0.001, 'gift': 0.001, 'project': 0.001, 'contribute': 0.001, 'help': 0.001, 'commitment': 0.001, 'award': 0.001, 'purpose': 0.0, 'support': 0.0}\n",
      "('The part of something that faces forward.', 'front')\n",
      "{'face': 0.002, 'front': 0.001, 'forward': 0.001, 'point': 0.001, 'head': 0.001, 'side': 0.001, 'part': 0.001, 'position': 0.001, 'image': 0.0, 'perspective': 0.0}\n",
      "('A message that is sent electronically from one computer to another.', 'email')\n",
      "{'message': 0.003, 'email': 0.001, 'computer': 0.001, 'text': 0.001, 'word': 0.0, 'communication': 0.0, 'mail': 0.0, 'send': 0.0, 'copy': 0.0, 'letter': 0.0}\n",
      "('A specific arrangement or sequence of items or actions.', 'order')\n",
      "{'description': 0.002, 'descripton': 0.002, 'symbiosis': 0.001, 'systyrofoam': 0.001, 'sequence': 0.001, 'adolescence': 0.001, 'etymology': 0.001, 'descriptor': 0.001, 'systylization': 0.001, 'arithmetic': 0.001}\n",
      "('It is a synonym of type.', 'kind')\n",
      "{'type': 0.003, 'name': 0.001, 'symbiosis': 0.001, 'word': 0.001, 'symphony': 0.001, 'adolescence': 0.001, 'form': 0.001, 'neoclassical': 0.001, 'adolf': 0.001, 'adolescent': 0.001}\n",
      "('It is a medical procedure.', 'operation')\n",
      "{'surgery': 0.003, 'medical': 0.002, 'psychiatric': 0.001, 'psychiatric procedure': 0.001, 'procedure': 0.001, 'doctor': 0.001, 'psychiatry': 0.001, 'diagnosis': 0.001, 'psychiatric surgery': 0.001, 'systolophageal surgery': 0.001}\n",
      "('It is similar to compartment or part.', 'section')\n",
      "{'compartment': 0.003, 'part': 0.001, 'component': 0.001, 'unit': 0.001, 'partition': 0.001, 'structure': 0.0, 'description': 0.0, 'section': 0.0, 'function': 0.0, 'segment': 0.0}\n",
      "('The way people talk and write to understand each other.', 'language')\n",
      "{'word': 0.002, 'language': 0.001, 'descripton': 0.001, 'descriptor': 0.001, 'dialogue': 0.001, 'description': 0.001, 'vocabulary': 0.001, 'communication': 0.001, 'conversation': 0.001}\n",
      "(\"It's a place where someone lives, like a home or residence.\", 'dwelling')\n",
      "{'place': 0.002, 'home': 0.002, 'residence': 0.001, 'house': 0.001, 'location': 0.001, 'town': 0.001, 'city': 0.001, 'building': 0.001, 'housing': 0.0, 'property': 0.0}\n",
      "('A drink that energizes you.', 'coffee')\n",
      "{'drink': 0.003, 'energizer': 0.001, 'adolescent drink': 0.001, 'adolescence': 0.001, 'adolescent': 0.001, 'jolt': 0.001, 'adolfo': 0.001, 'adolfolfo': 0.001, 'adolf': 0.001, 'adolfodge': 0.001}\n",
      "('A group of people living together in a community or sharing common customs, laws, and organizations.', 'society')\n",
      "{'community': 0.003, 'descriptor': 0.001, 'adolescent': 0.001, 'adolf': 0.001, 'group': 0.001, 'adolfo': 0.001, 'adolescence': 0.001, 'christian': 0.001, 'adolfs': 0.001, 'descripton': 0.001}\n",
      "('The upper part of the body between the neck and the abdomen.', 'chest')\n",
      "{'neck': 0.003, 'chest': 0.001, 'abdomen': 0.001, 'arm': 0.001, 'head': 0.001, 'body': 0.001, 'stomach': 0.001, 'leg': 0.001, 'shoulder': 0.0, 'front': 0.0}\n",
      "('A large area of water surrounded by land,often used for swimming.', 'pool')\n",
      "{'lake': 0.003, 'beach': 0.001, 'river': 0.001, 'swimming': 0.001, 'water': 0.001, 'slalom': 0.001, 'samara': 0.001, 'sand': 0.001, 'swath': 0.001, 'sailor': 0.001}\n",
      "('It is similar to capital, wealth, or means.', 'resource')\n",
      "{'capital': 0.003, 'currency': 0.001, 'money': 0.001, 'wealth': 0.001, 'tax': 0.0, 'investment': 0.0, 'income': 0.0, 'equity': 0.0, 'dollar': 0.0, 'financial': 0.0}\n",
      "(' A narrow, elevated road.', 'track')\n",
      "{'road': 0.004, 'escarpment': 0.001, 'lane': 0.001, 'slalom': 0.001, 'tributary': 0.001, 'highway': 0.0, 'escalator': 0.0, 'cult': 0.0, 'cul de sacrificio': 0.0, 'cul de sacrifice': 0.0}\n",
      "('The state of being evenly distributed.', 'balance')\n",
      "{'distribution': 0.003, 'adolescence': 0.001, 'distributed': 0.001, 'advance': 0.001, 'spread': 0.001, 'advanced': 0.001, 'equivalence': 0.001, 'adolescent': 0.001, 'advancement': 0.001, 'swath': 0.001}\n",
      "('A unit of length equal to one twelfth of a foot.', 'inch')\n",
      "{'foot': 0.003, 'twelfth': 0.002, 'length': 0.002, 'styrofoam': 0.001, 'twelfth twelfth': 0.001, 'leg': 0.001, 'twelfth of a foot': 0.001, 'tertiary': 0.001, 'twelfth of': 0.001, 'thigh': 0.001}\n",
      "('A dark area or shape cast by a body blocking light.', 'shadow')\n",
      "{'descripton': 0.002, 'shadow': 0.001, 'dark': 0.001, 'color': 0.001, 'stain': 0.001, 'acoustic': 0.001, 'octagon': 0.001, 'sleeve': 0.001, 'light': 0.001, 'darkness': 0.001}\n",
      "('A term used in the past to refer to a woman hired to do cleaning and household chores in exchange for payment.', 'charwoman')\n",
      "{'job': 0.001, 'payment': 0.001, 'employee': 0.001, 'contract': 0.001, 'lady': 0.001, 'worker': 0.001, 'woman': 0.001, 'work': 0.001, 'contractor': 0.001, 'deposit': 0.001}\n",
      "('One of the choices or options in a situation.', 'side')\n",
      "{'choice': 0.002, 'option': 0.002, 'descripton': 0.001, 'descriptor': 0.001, 'decision': 0.001, 'description': 0.001, 'question': 0.001, 'character': 0.001, 'options': 0.001}\n",
      "('A device that takes pictures or videos.', 'camera')\n",
      "{'camera': 0.002, 'video': 0.002, 'device': 0.002, 'computer': 0.001, 'screen': 0.0, 'file': 0.0, 'picture': 0.0, 'film': 0.0, 'machine': 0.0, 'tablet': 0.0}\n",
      "('A group of people who are gathered to discuss or decide something.', 'panel')\n",
      "{'debate': 0.003, 'discussion': 0.002, 'descripton': 0.001, 'descriptor': 0.001, 'group': 0.001, 'adolf': 0.001, 'adolescent': 0.001, 'adolfo': 0.001, 'committee': 0.001, 'adolfe': 0.001}\n",
      "('It is similar to investigation, study, or scrutiny.', 'analysis')\n",
      "{'investigation': 0.001, 'inquiry': 0.001, 'study': 0.001, 'investigative': 0.001, 'research': 0.001, 'scrutiny': 0.0, 'review': 0.0, 'analysis': 0.0, 'report': 0.0}\n",
      "('It is similar to research.', 'study')\n",
      "{'research': 0.003, 'study': 0.001, 'description': 0.001, 'science': 0.0, 'report': 0.0, 'hypothesis': 0.0, 'article': 0.0, 'analysis': 0.0, 'scientific': 0.0, 'book': 0.0}\n",
      "('It is a synonym for company or enterprise.', 'firm')\n",
      "{'company': 0.002, 'enterprise': 0.002, 'business': 0.001, 'corporation': 0.001, 'industry': 0.001, 'venture': 0.001, 'product': 0.001, 'entity': 0.0, 'organization': 0.0, 'employee': 0.0}\n",
      "('A written piece of content often found in newspapers, magazines, or online, conveying information or opinions on a particular topic.', 'article')\n",
      "{'article': 0.002, 'descriptor': 0.001, 'newspaper': 0.001, 'descripton': 0.001, 'content': 0.001, 'publication': 0.001, 'word': 0.001, 'description': 0.001, 'piece': 0.001, 'book': 0.001}\n",
      "('The sweet and fleshy product of a tree or other plant.', 'fruit')\n",
      "{'fruit': 0.003, 'sweet': 0.001, 'plant': 0.001, 'flower': 0.001, 'tree': 0.001, 'vegetable': 0.001, 'apple': 0.001, 'sugar': 0.0, 'seed': 0.0, 'product': 0.0}\n",
      "('It is something related to England.', 'english')\n",
      "{'england': 0.002, 'country': 0.002, 'scotland': 0.001, 'luther': 0.001, 'edinburgh': 0.001, 'ancestry': 0.001, 'christianity': 0.001, 'british': 0.001, 'london': 0.001, 'eugene': 0.001}\n",
      "('The end of something; a final decision or outcome.', 'conclusion')\n",
      "{'outcome': 0.002, 'final': 0.002, 'conclusion': 0.001, 'decision': 0.001, 'descripton': 0.001, 'end': 0.001, 'descriptor': 0.001, 'result': 0.001, 'verdict': 0.001, 'description': 0.001}\n",
      "('A single event or incident in a series.', 'episode')\n",
      "{'event': 0.002, 'episode': 0.002, 'apocalypse': 0.002, 'conflict': 0.001, 'symbiosis': 0.001, 'apocalyptic': 0.001, 'instance': 0.001, 'adolfolfo': 0.001, 'adolfodge': 0.001, 'adolfo': 0.001}\n",
      "('It is similar to a scientist.', 'researcher')\n",
      "{'scientist': 0.004, 'physicist': 0.001, 'aphysicist': 0.001, 'adolf': 0.001, 'physician': 0.001, 'astrologer': 0.001, 'adolescent': 0.001, 'aphysemologist': 0.001, 'astronomer': 0.001, 'aphysician': 0.001}\n",
      "('The opposite of cold.', 'heat')\n",
      "{'cold': 0.003, 'october': 0.001, 'sleeeeeeee': 0.001, 'blizzard': 0.001, 'octopus': 0.001, 'sleeve': 0.001, 'oblivion': 0.001, 'oblizzard': 0.001, 'frost': 0.001, 'sleeeeeee': 0.001}\n",
      "('It is similar to plan or program.', 'strategy')\n",
      "{'plan': 0.003, 'program': 0.002, 'project': 0.001, 'strategy': 0.0, 'term': 0.0, 'concept': 0.0, 'description': 0.0, 'contract': 0.0, 'model': 0.0, 'mission': 0.0}\n",
      "('A place to sit.', 'seat')\n",
      "{'place': 0.002, 'table': 0.001, 'chair': 0.001, 'room': 0.001, 'seat': 0.001, 'bed': 0.001, 'place of worship': 0.001, 'place to styrofoam': 0.001, 'desk': 0.001, 'place to sit': 0.001}\n",
      "('Water in a solidified form.', 'ice')\n",
      "{'solidified': 0.002, 'water': 0.002, 'descripton': 0.001, 'sediment': 0.001, 'precipitation': 0.001, 'descriptor': 0.001, 'sulphur': 0.001, 'sulphuric': 0.001, 'form': 0.001, 'sulfide': 0.001}\n",
      "('It is the opposite of boredom.', 'interest')\n",
      "{'boredom': 0.002, 'narcissism': 0.001, 'adolescence': 0.001, 'annoyance': 0.001, 'numbness': 0.001, 'adversity': 0.001, 'naiveness': 0.001, 'adolescent': 0.001, 'narcissistic': 0.001, 'booze': 0.001}\n",
      "('The very outer part of something, like the border or limit.', 'edge')\n",
      "{'border': 0.003, 'boundary': 0.002, 'wall': 0.001, 'borders': 0.001, 'point': 0.0, 'area': 0.0, 'frontier': 0.0, 'dimension': 0.0, 'block': 0.0, 'part': 0.0}\n",
      "('It is similar to price, expense, or fee.', 'cost')\n",
      "{'expense': 0.002, 'price': 0.002, 'fee': 0.001, 'cost': 0.001, 'tax': 0.001, 'payment': 0.001, 'rate': 0.0, 'charge': 0.0, 'term': 0.0, 'amount': 0.0}\n",
      "('It is the opposite of passenger.', 'driver')\n",
      "{'passenger': 0.003, 'airline': 0.001, 'driver': 0.001, 'flight': 0.001, 'passengers': 0.001, 'car': 0.001, 'plane': 0.0, 'train': 0.0, 'baggage': 0.0, 'bus': 0.0}\n",
      "('It is a synonym for perspective, outlook, scene, or landscape.', 'view')\n",
      "{'perspective': 0.002, 'scene': 0.001, 'image': 0.001, 'view': 0.001, 'outlook': 0.001, 'landscape': 0.001, 'description': 0.001, 'panorama': 0.001, 'point': 0.001, 'picture': 0.001}\n",
      "('A vertical surface that separates rooms in a building.', 'wall')\n",
      "{'floor': 0.003, 'building': 0.001, 'room': 0.001, 'wall': 0.001, 'floor-to-ceiling': 0.001, 'structure': 0.0, 'door': 0.0, 'surface': 0.0, 'roof': 0.0, 'space': 0.0}\n",
      "('It is a season of the year that comes after winter and before summer.', 'spring')\n",
      "{'summer': 0.002, 'winter': 0.002, 'season': 0.001, 'tuesday': 0.001, 'spring': 0.001, 'october': 0.001, 'january': 0.001, 'autumn': 0.001, 'saturday': 0.001, 'april': 0.001}\n",
      "('It is related to problems or troubles.', 'issue')\n",
      "{'problem': 0.003, 'problems': 0.002, 'conflict': 0.001, 'concern': 0.001, 'crisis': 0.0, 'issue': 0.0, 'troubles': 0.0, 'trouble': 0.0, 'cause': 0.0, 'dispute': 0.0}\n"
     ]
    }
   ],
   "source": [
    "# for key in words_vs_probs:\n",
    "#     print(key)\n",
    "#     print(words_vs_probs[key])"
   ]
  },
  {
   "cell_type": "code",
   "execution_count": 91,
   "metadata": {},
   "outputs": [],
   "source": [
    "accuracy_100 = dict()\n",
    "rank_vs_accuracy_100 = dict()\n",
    "for i in range(1, 11):\n",
    "  acc_100 = count_accuracy(predict_test, true, top_k=i)\n",
    "  accuracy_100[i] = acc_100[0]\n",
    "  rank_vs_accuracy_100[i] = acc_100[1]"
   ]
  },
  {
   "cell_type": "code",
   "execution_count": 92,
   "metadata": {},
   "outputs": [
    {
     "data": {
      "text/plain": [
       "{1: 0.09,\n",
       " 2: 0.24,\n",
       " 3: 0.29,\n",
       " 4: 0.36,\n",
       " 5: 0.41,\n",
       " 6: 0.44,\n",
       " 7: 0.46,\n",
       " 8: 0.48,\n",
       " 9: 0.49,\n",
       " 10: 0.49}"
      ]
     },
     "execution_count": 92,
     "metadata": {},
     "output_type": "execute_result"
    }
   ],
   "source": [
    "accuracy_100"
   ]
  },
  {
   "cell_type": "code",
   "execution_count": 52,
   "metadata": {},
   "outputs": [],
   "source": [
    "import matplotlib.pyplot as plt"
   ]
  },
  {
   "cell_type": "code",
   "execution_count": 53,
   "metadata": {},
   "outputs": [
    {
     "data": {
      "image/png": "[encoded data removed]",
      "text/plain": [
       "<Figure size 800x600 with 1 Axes>"
      ]
     },
     "metadata": {},
     "output_type": "display_data"
    }
   ],
   "source": [
    "x = accuracy_100.keys()\n",
    "y = [val * 100 for val in accuracy_100.values()]\n",
    "plt.figure(figsize=(8, 6))  # Increase figure size\n",
    "plt.plot(x, y)\n",
    "plt.ylim(0, 100)\n",
    "plt.grid(True)  # Add grid lines\n",
    "plt.xlabel(\"Top-k\")\n",
    "plt.ylabel(\"Accuracy (percent)\")\n",
    "plt.title(f\"Top-K Vs. Accuracy on fine-tuned {model_name} 100 nouns top-10 1 epoch\")\n",
    "plt.savefig(f'/local/nursulu/bert_and_friends/results/top_10_accuracy_fine_tuned_{model_name}_100_nouns_1_epoch.png')\n",
    "plt.show()"
   ]
  },
  {
   "cell_type": "markdown",
   "metadata": {},
   "source": [
    "## Saving model"
   ]
  },
  {
   "cell_type": "code",
   "execution_count": 54,
   "metadata": {},
   "outputs": [
    {
     "data": {
      "application/vnd.jupyter.widget-view+json": {
       "model_id": "b87267afe20c47fd9e914105c78fa789",
       "version_major": 2,
       "version_minor": 0
      },
      "text/plain": [
       "VBox(children=(HTML(value='<center> <img\\nsrc=https://huggingface.co/front/assets/huggingface_logo-noborder.sv…"
      ]
     },
     "metadata": {},
     "output_type": "display_data"
    }
   ],
   "source": [
    "from huggingface_hub import notebook_login\n",
    "\n",
    "notebook_login()"
   ]
  },
  {
   "cell_type": "code",
   "execution_count": 59,
   "metadata": {},
   "outputs": [
    {
     "data": {
      "application/vnd.jupyter.widget-view+json": {
       "model_id": "8d815997e0774f759fbea1b44d57d7d1",
       "version_major": 2,
       "version_minor": 0
      },
      "text/plain": [
       "Upload 1 LFS files:   0%|          | 0/1 [00:00<?, ?it/s]"
      ]
     },
     "metadata": {},
     "output_type": "display_data"
    },
    {
     "data": {
      "application/vnd.jupyter.widget-view+json": {
       "model_id": "b5cfa409288444719159eb0819a5fd5b",
       "version_major": 2,
       "version_minor": 0
      },
      "text/plain": [
       "pytorch_model.bin:   0%|          | 0.00/3.13G [00:00<?, ?B/s]"
      ]
     },
     "metadata": {},
     "output_type": "display_data"
    },
    {
     "data": {
      "text/plain": [
       "CommitInfo(commit_url='https://huggingface.co/NursNurs/T5ForReverseDictionary_fine-tuned/commit/9d0b7cd1fc25f4432c12af8e29b08002117e6a58', commit_message='Upload T5ForConditionalGeneration', commit_description='', oid='9d0b7cd1fc25f4432c12af8e29b08002117e6a58', pr_url='https://huggingface.co/NursNurs/T5ForReverseDictionary_fine-tuned/discussions/1', pr_revision='refs/pr/1', pr_num=1)"
      ]
     },
     "execution_count": 59,
     "metadata": {},
     "output_type": "execute_result"
    }
   ],
   "source": [
    "peft_model_id = \"NursNurs/T5ForReverseDictionary_fine-tuned\"\n",
    "fine_tuned_model.push_to_hub(\"NursNurs/T5ForReverseDictionary_fine-tuned\", use_auth_token=True, create_pr=1)"
   ]
  }
 ],
 "metadata": {
  "kernelspec": {
   "display_name": "base",
   "language": "python",
   "name": "python3"
  },
  "language_info": {
   "codemirror_mode": {
    "name": "ipython",
    "version": 3
   },
   "file_extension": ".py",
   "mimetype": "text/x-python",
   "name": "python",
   "nbconvert_exporter": "python",
   "pygments_lexer": "ipython3",
   "version": "3.11.3"
  },
  "orig_nbformat": 4
 },
 "nbformat": 4,
 "nbformat_minor": 2
}
