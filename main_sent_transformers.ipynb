{
 "cells": [
  {
   "cell_type": "markdown",
   "metadata": {},
   "source": [
    "## TCI with SentenceTransformer"
   ]
  },
  {
   "cell_type": "code",
   "execution_count": null,
   "metadata": {},
   "outputs": [],
   "source": [
    "import nltk\n",
    "import pandas as pd\n",
    "import sent_transformers\n",
    "import prompt_tuning\n",
    "nltk.download('wordnet')\n",
    "nltk.download('punkt')\n",
    "from nltk.corpus import wordnet as wn"
   ]
  },
  {
   "cell_type": "code",
   "execution_count": 2,
   "metadata": {},
   "outputs": [],
   "source": [
    "# Prepare database; only required when compputing new sentence embeddings\n",
    "targets = [word.name() for word in wn.all_synsets(pos='n')]\n",
    "targets = [word.split('.')[0] if word[0] != \".\" else word.split('.')[1] for word in targets]\n",
    "definitions_wordNet = [word.definition() for word in wn.all_synsets(pos='n')]"
   ]
  },
  {
   "cell_type": "code",
   "execution_count": null,
   "metadata": {},
   "outputs": [],
   "source": [
    "# compute embeddings; no need to run this cell as embeddings are already computed\n",
    "out_path = \"/local/js/BERT_Friends/__final/embeddings.pkl\"\n",
    "device = \"cuda:0\"\n",
    "sent_transformers.compute_sentence_embeddings(definitions_wordNet, out_path, device)"
   ]
  },
  {
   "cell_type": "code",
   "execution_count": 3,
   "metadata": {},
   "outputs": [],
   "source": [
    "embeddings_path = \"/local/js/BERT_Friends/__final/embeddings.pkl\"\n",
    "stored_seantences, stored_embeddings = sent_transformers.get_sentence_embeddings(embeddings_path, device='cuda:0')"
   ]
  },
  {
   "cell_type": "code",
   "execution_count": 4,
   "metadata": {},
   "outputs": [
    {
     "name": "stdout",
     "output_type": "stream",
     "text": [
      "Number of descriptions: 1000\n",
      "Number of target words: 1000\n"
     ]
    },
    {
     "data": {
      "text/plain": [
       "{1: 0.11,\n",
       " 2: 0.16,\n",
       " 3: 0.21,\n",
       " 4: 0.23,\n",
       " 5: 0.23,\n",
       " 6: 0.24,\n",
       " 7: 0.25,\n",
       " 8: 0.29,\n",
       " 9: 0.29,\n",
       " 10: 0.32}"
      ]
     },
     "execution_count": 4,
     "metadata": {},
     "output_type": "execute_result"
    }
   ],
   "source": [
    "data_path = '/local/js/BERT_Friends/__final/coca_1000_final.csv'\n",
    "_, _, test_file, _ = prompt_tuning.make_dataset(data_path)\n",
    "\n",
    "test_file = pd.DataFrame({'target': test_file['target'], 'description': test_file['description']})\n",
    "test_descriptions = [test_file['description'][i] for i in range(len(test_file['description']))]\n",
    "test_targets = [test_file['target'][i] for i in range(len(test_file['target']))]\n",
    "top_k_acc = sent_transformers.top_k_acc(test_descriptions, test_targets, targets, stored_embeddings)\n",
    "top_k_acc"
   ]
  }
 ],
 "metadata": {
  "kernelspec": {
   "display_name": "main",
   "language": "python",
   "name": "python3"
  },
  "language_info": {
   "codemirror_mode": {
    "name": "ipython",
    "version": 3
   },
   "file_extension": ".py",
   "mimetype": "text/x-python",
   "name": "python",
   "nbconvert_exporter": "python",
   "pygments_lexer": "ipython3",
   "version": "3.11.4"
  },
  "orig_nbformat": 4
 },
 "nbformat": 4,
 "nbformat_minor": 2
}
