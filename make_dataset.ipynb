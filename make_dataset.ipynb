{
 "cells": [
  {
   "cell_type": "markdown",
   "metadata": {},
   "source": [
    "## Prepare Hill et al. (2016) dataset for PEFT "
   ]
  },
  {
   "cell_type": "code",
   "execution_count": 26,
   "metadata": {},
   "outputs": [
    {
     "name": "stdout",
     "output_type": "stream",
     "text": [
      "DatasetDict({\n",
      "    train: Dataset({\n",
      "        features: ['word', 'definitions'],\n",
      "        num_rows: 44979\n",
      "    })\n",
      "    dev: Dataset({\n",
      "        features: ['word', 'definitions'],\n",
      "        num_rows: 4998\n",
      "    })\n",
      "    test: Dataset({\n",
      "        features: ['word', 'definitions'],\n",
      "        num_rows: 500\n",
      "    })\n",
      "})\n"
     ]
    },
    {
     "data": {
      "text/plain": [
       "'dataset_preproc = full_data.map(\\n    data.preprocess_seq2seq,\\n    batched=True,\\n    num_proc=1,\\n    remove_columns=full_data[\\'train\\'].column_names,\\n    load_from_cache_file=False,\\n    desc=\"Running tokenizer on dataset\",\\n)\\n\\nbatch_size = 8\\ntrain_dataloader, eval_dataloader, test_dataloader = data.make_dataloader(dataset_preproc, batch_size)'"
      ]
     },
     "execution_count": 26,
     "metadata": {},
     "output_type": "execute_result"
    }
   ],
   "source": [
    "import data\n",
    "from datasets import DatasetDict\n",
    "\n",
    "train = data.make_dataset('./data/data_train.json', top1_def=True)\n",
    "dev = data.make_dataset('./data/data_dev.json', top1_def=True)\n",
    "test = data.make_dataset('./data/data_test_500_rand1_unseen.json')\n",
    "\n",
    "full_data = DatasetDict({'train': train, 'dev': dev, 'test': test})\n",
    "print(full_data)\n",
    "\n",
    "dataset_preproc = full_data.map(\n",
    "    data.preprocess_seq2seq,\n",
    "    batched=True,\n",
    "    num_proc=1,\n",
    "    remove_columns=full_data['train'].column_names,\n",
    "    load_from_cache_file=False,\n",
    "    desc=\"Running tokenizer on dataset\",\n",
    ")\n",
    "\n",
    "batch_size = 8\n",
    "train_dataloader, eval_dataloader, test_dataloader = data.make_dataloader(dataset_preproc, batch_size)"
   ]
  }
 ],
 "metadata": {
  "kernelspec": {
   "display_name": "Python 3",
   "language": "python",
   "name": "python3"
  },
  "language_info": {
   "codemirror_mode": {
    "name": "ipython",
    "version": 3
   },
   "file_extension": ".py",
   "mimetype": "text/x-python",
   "name": "python",
   "nbconvert_exporter": "python",
   "pygments_lexer": "ipython3",
   "version": "3.9.0"
  }
 },
 "nbformat": 4,
 "nbformat_minor": 2
}
